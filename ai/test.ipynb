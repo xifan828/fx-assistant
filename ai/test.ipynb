{
 "cells": [
  {
   "cell_type": "code",
   "execution_count": 137,
   "metadata": {},
   "outputs": [],
   "source": [
    "from service.technical_indicators import TechnicalIndicators\n",
    "from bs4 import BeautifulSoup"
   ]
  },
  {
   "cell_type": "code",
   "execution_count": 126,
   "metadata": {},
   "outputs": [],
   "source": [
    "import requests\n",
    "import json"
   ]
  },
  {
   "cell_type": "code",
   "execution_count": 156,
   "metadata": {},
   "outputs": [],
   "source": [
    "header = {\n",
    "            'User-Agent': 'Mozilla/5.0 (Windows NT 10.0; Win64; x64) AppleWebKit/537.36 (KHTML, like Gecko) Chrome/91.0.4472.124 Safari/537.36',\n",
    "    }\n",
    "website = \"https://www.tradingview.com/symbols/EURUSD/news/\"\n",
    "url_prefix = \"https://r.jina.ai/\"\n",
    "website_url = url_prefix + website\n",
    "\n",
    "response = requests.get(website_url)"
   ]
  },
  {
   "cell_type": "code",
   "execution_count": 141,
   "metadata": {},
   "outputs": [],
   "source": [
    "html = response.text\n",
    "soup = BeautifulSoup(html, parser=\"html.parser\")"
   ]
  },
  {
   "cell_type": "code",
   "execution_count": 157,
   "metadata": {},
   "outputs": [],
   "source": [
    "scrapped_content = response.text"
   ]
  },
  {
   "cell_type": "code",
   "execution_count": 158,
   "metadata": {},
   "outputs": [
    {
     "name": "stdout",
     "output_type": "stream",
     "text": [
      "Title: EURUSD Latest News and Headlines — TradingView\n",
      "\n",
      "URL Source: https://www.tradingview.com/symbols/EURUSD/news/\n",
      "\n",
      "Markdown Content:\n",
      "TimeSymbolHeadlineProvider\n",
      "\n",
      "[Euro falls after French exit poll points to hung parliament](https://www.tradingview.com/news/reuters.com,2024:newsml_L8N3IZ08V:0-euro-falls-after-french-exit-poll-points-to-hung-parliament/)[Euro Q3 Technical Forecast: A Mixed Picture for the Single Currency](https://www.dailyfx.com/analysis/euro-q3-technical-forecast-a-mixed-picture-for-the-single-currency-20240707.html)[Forexlive Americas FX news wrap 5 Jul: NFP for June sent the USD lower/yields tumbling](https://www.tradingview.com/news/forexlive:57acae61a094b:0-forexlive-americas-fx-news-wrap-5-jul-nfp-for-june-sent-the-usd-lower-yields-tumbling/)[US Dollar Q3 Technical Outlook – Bearish Forces to Prevail in the End](https://www.dailyfx.com/analysis/us-dollar-q3-technical-outlook-bearish-forces-to-prevail-in-the-end-20240705.html)[World stocks rise, US yields dip amid jobs data, UK labor landslide](https://www.tradingview.com/news/reuters.com,2024:newsml_L1N3IX0RS:0-world-stocks-rise-us-yields-dip-amid-jobs-data-uk-labor-landslide/)[Dollar stays lower after US jobs data; euro up ahead of French election](https://www.tradingview.com/news/reuters.com,2024:newsml_L1N3IX0PR:0-dollar-stays-lower-after-us-jobs-data-euro-up-ahead-of-french-election/)[World stocks rise, US yields dip amid jobs data, UK labour landslide](https://www.tradingview.com/news/reuters.com,2024:newsml_L1N3IX0HP:0-world-stocks-rise-us-yields-dip-amid-jobs-data-uk-labour-landslide/)[COMMENT-US recap: Data sinks dollar, yields, buoys expectations for Fed cuts](https://www.tradingview.com/news/reuters.com,2024:newsml_L1N3IX0L8:0-comment-us-recap-data-sinks-dollar-yields-buoys-expectations-for-fed-cuts/)[](https://www.tradingview.com/news/macenews:55b73d982094b:0-us-oil-gas-rig-count-4-rigs-in-latest-week-from-previous-week-to-585-baker-hughes/)[Euro Q3 Fundamental Forecast: Euro Path Dependent on French Politics and US Fed Policy](https://www.dailyfx.com/news/euro-q3-fundamental-forecast-euro-path-dependent-on-french-politics-and-us-fed-policy-20240705.html)[Dollar edges down after US jobs data; pound firm after UK election](https://www.tradingview.com/news/reuters.com,2024:newsml_L1N3IX0GH:0-dollar-edges-down-after-us-jobs-data-pound-firm-after-uk-election/)[COMMENT-EUR/USD upside risk on less restrictive Fed prospect](https://www.tradingview.com/news/reuters.com,2024:newsml_L1N3IX0GF:0-comment-eur-usd-upside-risk-on-less-restrictive-fed-prospect/)[Kickstart the FX trading day for July 5 w/a technical look at the EURUSD, USDJPY & GBPUSD](https://www.tradingview.com/news/forexlive:c5bd1829e094b:0-kickstart-the-fx-trading-day-for-july-5-w-a-technical-look-at-the-eurusd-usdjpy-gbpusd/)[FX options wrap - FX stability and risk appetite hit premium](https://www.tradingview.com/news/reuters.com,2024:newsml_L1N3IX0G3:0-fx-options-wrap-fx-stability-and-risk-appetite-hit-premium/)[Euro Climbs to Over 3-Week High](https://www.tradingview.com/news/te_news:420111:0-euro-climbs-to-over-3-week-high/)[Sign in to read exclusive news](https://www.tradingview.com/news/DJN_DN20240705003725:0/)[Dollar briefly adds to decline vs yen after US jobs data](https://www.tradingview.com/news/reuters.com,2024:newsml_L1N3IX0EE:0-dollar-briefly-adds-to-decline-vs-yen-after-us-jobs-data/)[](https://www.tradingview.com/news/macenews:263bce98f094b:0-more-us-employment-report-3-mo-average-total-nonfarm-payrolls-rise-177k-in-june-vs-212k-may-218k-april-274k-in-june-2023/)[](https://www.tradingview.com/news/macenews:9dcfba0dd094b:0-more-us-employment-report-government-jobs-70k-in-june-from-may-25k-in-may-from-april/)[](https://www.tradingview.com/news/macenews:6eafbc495094b:0-more-us-employment-report-us-construction-jobs-27k-in-june-from-may/)[](https://www.tradingview.com/news/macenews:0bcc55be4094b:0-more-us-employment-report-us-leisure-hospitality-jobs-7k-in-june-from-may/)[](https://www.tradingview.com/news/macenews:92eb71862094b:0-us-employment-participation-rate-62-6-in-june-vs-62-5-expected/)[](https://www.tradingview.com/news/macenews:8d70a5612094b:0-us-non-farm-payrolls-for-may-revised-54k-to-218k-from-272k-previous-april-payrolls-rev-57k-to-108k-from-165k-previous-net-is-111k-vs-previous/)[](https://www.tradingview.com/news/macenews:134b9ea78094b:0-us-average-hourly-earnings-0-3-in-june-from-may-vs-0-3-expected/)[](https://www.tradingview.com/news/macenews:b415e2e28094b:0-us-average-hourly-earnings-3-9-in-june-from-year-ago-vs-3-9-expected/)[](https://www.tradingview.com/news/macenews:d605b5cb6094b:0-us-average-weekly-hours-worked-34-3-in-june-vs-34-3-expected-34-3-in-may/)[](https://www.tradingview.com/news/macenews:1ee280611094b:0-us-manufacturing-payrolls-8k-in-june-from-may-vs-10k-expected/)[](https://www.tradingview.com/news/macenews:695e60dab094b:0-us-non-farm-payrolls-206k-in-june-from-may-vs-190k-expected/)[](https://www.tradingview.com/news/macenews:867119e2c094b:0-us-non-farm-private-payrolls-136k-in-june-from-may-vs-160k-expected/)[](https://www.tradingview.com/news/macenews:0efbfcafa094b:0-us-unemployment-rate-4-1-in-june-vs-4-0-expected/)[Brokerages lift S&P 500 target on hopes for soft landing, rate cuts](https://www.tradingview.com/news/reuters.com,2024:newsml_L4N3IX0QP:0-brokerages-lift-s-p-500-target-on-hopes-for-soft-landing-rate-cuts/)[Dollar weak ahead of US jobs data, pound firms after Labour landslide in UK election](https://www.tradingview.com/news/reuters.com,2024:newsml_L1N3IX08R:0-dollar-weak-ahead-of-us-jobs-data-pound-firms-after-labour-landslide-in-uk-election/)[Euro Ticks Up Despite Weaker Data As US Payroll Wait Dominates](https://www.dailyfx.com/news/euro-ticks-up-despite-weaker-data-as-us-payroll-wait-dominates-20240705.html)[ForexLive European FX news wrap: On to the NFP next](https://www.tradingview.com/news/forexlive:e9bcc3422094b:0-forexlive-european-fx-news-wrap-on-to-the-nfp-next/)[COMMENT-Are FX options signaling complacency over French election risks?](https://www.tradingview.com/news/reuters.com,2024:newsml_L1N3IX098:0-comment-are-fx-options-signaling-complacency-over-french-election-risks/)[Sign in to read exclusive news](https://www.tradingview.com/news/DJN_DN20240705002399:0/)[Sign in to read exclusive news](https://www.tradingview.com/news/DJN_DN20240705002402:0/)[COMMENT-Soaring stock markets will drive FX trends further](https://www.tradingview.com/news/reuters.com,2024:newsml_L1N3IX08M:0-comment-soaring-stock-markets-will-drive-fx-trends-further/)[Dollar mostly lightly changed, awaits US jobs report later](https://www.tradingview.com/news/forexlive:71f3cadbc094b:0-dollar-mostly-lightly-changed-awaits-us-jobs-report-later/)[COMMENT-Stand-out FX option strike expiries for the week ahead](https://www.tradingview.com/news/reuters.com,2024:newsml_L1N3IX06P:0-comment-stand-out-fx-option-strike-expiries-for-the-week-ahead/)[FX option expiries for 5 July 10am New York cut](https://www.tradingview.com/news/forexlive:ff19382fa094b:0-fx-option-expiries-for-5-july-10am-new-york-cut/)[Asia stocks notch records; pound calm after Labour landslide](https://www.tradingview.com/news/reuters.com,2024:newsml_L1N3IX02P:0-asia-stocks-notch-records-pound-calm-after-labour-landslide/)[Dollar sputters ahead of payrolls; pound takes UK election sweep in stride](https://www.tradingview.com/news/reuters.com,2024:newsml_L1N3IX017:0-dollar-sputters-ahead-of-payrolls-pound-takes-uk-election-sweep-in-stride/)[](https://www.tradingview.com/news/reuters.com,2024:newsml_L1N3IX02M:0-starmer-s-steady-start/)[Sign in to read exclusive news](https://www.tradingview.com/news/DJN_DN20240704003941:0/)[Dollar at three-week lows; pound takes UK election in stride](https://www.tradingview.com/news/reuters.com,2024:newsml_L4N3IX01X:0-dollar-at-three-week-lows-pound-takes-uk-election-in-stride/)[Euro leans through 1.08 as it nears the weekly high](https://www.tradingview.com/news/forexlive:c2a5eb131094b:0-euro-leans-through-1-08-as-it-nears-the-weekly-high/)[Dollar weakness supports pound and euro, elections in focus](https://www.tradingview.com/news/reuters.com,2024:newsml_L1N3IW0ES:0-dollar-weakness-supports-pound-and-euro-elections-in-focus/)[FX options wrap - AUD/USD 0.7000, JPY clues, UK election, cheap NFP](https://www.tradingview.com/news/reuters.com,2024:newsml_L1N3IW0EA:0-fx-options-wrap-aud-usd-0-7000-jpy-clues-uk-election-cheap-nfp/)[Euro Rises to 3-Week High](https://www.tradingview.com/news/te_news:419954:0-euro-rises-to-3-week-high/)[COMMENT-Societe Generale advocates topside AUD/USD option calls](https://www.tradingview.com/news/reuters.com,2024:newsml_L1N3IW0AX:0-comment-societe-generale-advocates-topside-aud-usd-option-calls/)[Dollar weakness helps pound and euro, elections in focus](https://www.tradingview.com/news/reuters.com,2024:newsml_L1N3IW0BA:0-dollar-weakness-helps-pound-and-euro-elections-in-focus/)[USD/JPY upside starts to lose some steam ahead of US holiday session](https://www.tradingview.com/news/forexlive:c0a36a90c094b:0-usd-jpy-upside-starts-to-lose-some-steam-ahead-of-us-holiday-session/)[COMMENT-FX traders could take USD/JPY higher, defying authorities](https://www.tradingview.com/news/reuters.com,2024:newsml_L1N3IW093:0-comment-fx-traders-could-take-usd-jpy-higher-defying-authorities/)[COMMENT-An extreme UK election result could rattle the pound](https://www.tradingview.com/news/reuters.com,2024:newsml_L1N3IW08X:0-comment-an-extreme-uk-election-result-could-rattle-the-pound/)[EURUSD Technical Analysis – Weak US data weighs on the greenback](https://www.tradingview.com/news/forexlive:e563dea4a094b:0-eurusd-technical-analysis-weak-us-data-weighs-on-the-greenback/)[EUR/USD holds at the upper bound on the week](https://www.tradingview.com/news/forexlive:ac0b20db8094b:0-eur-usd-holds-at-the-upper-bound-on-the-week/)[COMMENT-UK election risk to GBP, according to FX options](https://www.tradingview.com/news/reuters.com,2024:newsml_L1N3IW07D:0-comment-uk-election-risk-to-gbp-according-to-fx-options/)[![Image 1](https://s3.tradingview.com/news/image/tradingview:9eccf132f094b-c47c26ee20c8f4346ed7a718080386cd-resized.jpeg)](https://www.tradingview.com/news/tradingview:9eccf132f094b:0-eur-usd-euro-tops-1-08-after-fed-minutes-show-mixed-signals-on-inflation/)[COMMENT-FX markets are trapped in a vicious circle](https://www.tradingview.com/news/reuters.com,2024:newsml_L1N3IW065:0-comment-fx-markets-are-trapped-in-a-vicious-circle/)[FX option expiries for 4 July 10am New York cut](https://www.tradingview.com/news/forexlive:2d5b1daeb094b:0-fx-option-expiries-for-4-july-10am-new-york-cut/)[Asia stocks hit 27-month top, dollar slips on rate cut wagers](https://www.tradingview.com/news/reuters.com,2024:newsml_L1N3IW01L:0-asia-stocks-hit-27-month-top-dollar-slips-on-rate-cut-wagers/)[Dollar on defensive after soft data, battered yen under watch](https://www.tradingview.com/news/reuters.com,2024:newsml_L1N3IW01C:0-dollar-on-defensive-after-soft-data-battered-yen-under-watch/)[Bets mount for US rate cut, UK political shake up](https://www.tradingview.com/news/reuters.com,2024:newsml_L4N3IW03I:0-bets-mount-for-us-rate-cut-uk-political-shake-up/)[US holiday set to dampen trading appetite in the European session today](https://www.tradingview.com/news/forexlive:dcb2b4290094b:0-us-holiday-set-to-dampen-trading-appetite-in-the-european-session-today/)[Asia stocks hit 27-month top, dollar slips on rate cut talk](https://www.tradingview.com/news/reuters.com,2024:newsml_L4N3IV1DC:0-asia-stocks-hit-27-month-top-dollar-slips-on-rate-cut-talk/)[Dollar on the defensive after soft data, little relief for yen](https://www.tradingview.com/news/reuters.com,2024:newsml_L4N3IV0IU:0-dollar-on-the-defensive-after-soft-data-little-relief-for-yen/)[Forexlive Americas FX news wrap 3 Jul: USD moves lower helped by weaker ISM data](https://www.tradingview.com/news/forexlive:9da479f0f094b:0-forexlive-americas-fx-news-wrap-3-jul-usd-moves-lower-helped-by-weaker-ism-data/)[World shares rise, US dollar weakens on soft labor market data](https://www.tradingview.com/news/reuters.com,2024:newsml_L1N3IV0X4:0-world-shares-rise-us-dollar-weakens-on-soft-labor-market-data/)[Yen drops to 38-year low, US dollar slumps after weak data](https://www.tradingview.com/news/reuters.com,2024:newsml_L1N3IV0PX:0-yen-drops-to-38-year-low-us-dollar-slumps-after-weak-data/)[COMMENT-US recap: EUR/USD capitalizes as dollar succumbs to data doldrums](https://www.tradingview.com/news/reuters.com,2024:newsml_L1N3IV0W6:0-comment-us-recap-eur-usd-capitalizes-as-dollar-succumbs-to-data-doldrums/)[](https://www.tradingview.com/news/macenews:b905fa5d4094b:0-more-fomc-minutes-overall-latest-fomc-minutes-add-little-to-nothing-of-significance-to-fed-chair-powell-s-post-fomc-news-conference-watching-data/)[](https://www.tradingview.com/news/macenews:dba6efd0a094b:0-more-fomc-minutes-few-participants-opined-that-immigration-flow-to-taper-several-saw-past-immigration-continuing-to-add-to-labor-force/)[](https://www.tradingview.com/news/macenews:50791bffd094b:0-more-fomc-minutes-many-participants-observedf-low-to-moderate-income-households-seeing-increasing-strains-having-run-down-pandemic-savings/)[](https://www.tradingview.com/news/macenews:1de99dd7f094b:0-more-fomc-minutes-repeats-wanted-to-emphasize-data-dependency-need-additional-info-on-inflation-data-noted-risks-from-geopolitical-developments/)[](https://www.tradingview.com/news/macenews:2196da9b2094b:0-fomc-minutes-saw-modest-progress-toward-disinflation-repeats-would-cut-rates-if-jobs-mkt-significantly-deteriorated-econ-gradually-cooling/)[](https://www.tradingview.com/news/macenews:9a416bf38094b:0-ism-us-services-sector-unexpectedly-slips-back-into-contraction-key-index-hits-lowest-since-early-phase-of-pandemic-slump/)[](https://www.tradingview.com/news/macenews:f5a803799094b:0-us-15-year-mortgage-rate-6-25-in-latest-week-vs-6-16-last-week-6-24-year-ago-freddie-mac/)[](https://www.tradingview.com/news/macenews:fa761e1ba094b:0-us-30-year-mortgage-rate-6-95-in-latest-week-vs-6-86-last-week-6-81-year-ago-freddie-mac/)[](https://www.tradingview.com/news/macenews:4bde2824f094b:0-us-natural-gas-in-storage-32-bln-cubic-feet-in-latest-week-from-previous-week-eia-vs-29-bln-expected/)[Euro Climbs to 3-Week High](https://www.tradingview.com/news/te_news:419814:0-euro-climbs-to-3-week-high/)[](https://www.tradingview.com/news/macenews:4abf900a9094b:0-us-atlanta-fed-gdpnow-model-estimates-us-2q-growth-rate-at-1-5-vs-1-7-on-july-1-2-2-on-june-28-reflects-us-ism-trade-balance-other-data/)[Yen skids to fresh 38-year low; US dollar tumbles after weak data](https://www.tradingview.com/news/reuters.com,2024:newsml_L1N3IV0GA:0-yen-skids-to-fresh-38-year-low-us-dollar-tumbles-after-weak-data/)[COMMENT-EUR/USD investors may get comfortable being long](https://www.tradingview.com/news/reuters.com,2024:newsml_L1N3IV0MS:0-comment-eur-usd-investors-may-get-comfortable-being-long/)[](https://www.tradingview.com/news/macenews:14c9c01ab094b:0-us-distillates-stocks-1-5-mln-barrels-in-latest-week-eia-vs-1-1-mln-expected/)[](https://www.tradingview.com/news/macenews:d17d8ac80094b:0-us-gasoline-stocks-2-2-mln-barrels-in-latest-week-eia-vs-1-5-mln-expected/)[](https://www.tradingview.com/news/macenews:c2dd83da4094b:0-us-crude-oil-stocks-12-2-mln-barrels-in-latest-week-eia-vs-0-4-mln-expected/)[](https://www.tradingview.com/news/macenews:c325180a0094b:0-us-ism-s-miller-lower-employment-in-hotels-food-drop-in-bus-activity-in-real-estate-rental-transportation-in-june-at-start-of-summer-came-as-surprise/)[The US dollar moves lower after weaker ISM services data](https://www.tradingview.com/news/forexlive:1c3c22b34094b:0-the-us-dollar-moves-lower-after-weaker-ism-services-data/)[](https://www.tradingview.com/news/macenews:35d6d636d094b:0-us-ism-services-chair-miller-maybe-there-is-a-shift-toward-spending-on-maintenance-and-repairs-from-new-capital-investment/)[](https://www.tradingview.com/news/macenews:ce8100c2e094b:0-us-ism-services-report-notably-lower-business-activity-contraction-in-new-orders-for-2nd-time-since-may-2020-continued-contraction-in-employment/)[](https://www.tradingview.com/news/macenews:0171d287c094b:0-more-u-s-may-factory-orders-defense-aircraft-parts-22-6-m-m/)[](https://www.tradingview.com/news/macenews:3e6e034f6094b:0-more-us-ism-services-report-purchasers-say-though-inflation-pressure-easing-still-seeing-much-higher-costs-for-some-commodities/)[](https://www.tradingview.com/news/macenews:93fda8914094b:0-more-u-s-may-factory-orders-non-defense-aircraft-parts-2-9-m-m/)[](https://www.tradingview.com/news/macenews:87f486fb5094b:0-more-us-ism-services-report-purchasing-managers-report-notably-lower-business-activity-in-june/)[](https://www.tradingview.com/news/macenews:f9a849133094b:0-more-u-s-may-factory-orders-transport-equipment-0-5-m-m/)[](https://www.tradingview.com/news/macenews:58deedbb9094b:0-more-us-ism-services-report-slower-supplier-delivery-performance-due-mostly-to-transportation-problems-not-slower-demand/)[FX options wrap - FX outlook, French risk, ZAR gains, yuan bets](https://www.tradingview.com/news/reuters.com,2024:newsml_L1N3IV0IL:0-fx-options-wrap-fx-outlook-french-risk-zar-gains-yuan-bets/)[](https://www.tradingview.com/news/macenews:faff4628d094b:0-more-u-s-may-factory-orders-ex-defense-0-7-m-m/)[](https://www.tradingview.com/news/macenews:79311ed0f094b:0-more-u-s-may-factory-orders-ex-transport-0-7-m-m/)[](https://www.tradingview.com/news/macenews:b1eefdc9b094b:0-more-us-ism-services-report-purchasers-say-in-general-business-is-flat-or-slowing/)[](https://www.tradingview.com/news/macenews:1b8d8a4e5094b:0-more-u-s-may-factory-orders-april-revised-down-to-0-4-m-m-vs-0-7-previous-estimate/)[](https://www.tradingview.com/news/macenews:1eee9ff98094b:0-more-u-s-may-factory-orders-durables-0-1-m-m-unchanged-from-initial-estimate/)[](https://www.tradingview.com/news/macenews:4734fc97a094b:0-us-ism-services-employment-index-46-1-in-june-vs-47-1-in-may/)[](https://www.tradingview.com/news/macenews:ccc6c3ffb094b:0-us-ism-services-prices-index-56-3-in-june-vs-58-1-in-may/)[](https://www.tradingview.com/news/macenews:b852f5956094b:0-us-ism-services-supplier-deliveries-index-52-2-in-june-vs-52-7-in-may/)[ISM nonmanufacturing PMI for June 48.8 versus 52.5 estimate](https://www.tradingview.com/news/forexlive:fd022f32d094b:0-ism-nonmanufacturing-pmi-for-june-48-8-versus-52-5-estimate/)[](https://www.tradingview.com/news/macenews:1b99067fc094b:0-u-s-may-factory-orders-0-5-m-m-vs-0-2-expected/)[](https://www.tradingview.com/news/macenews:7e7bedfb2094b:0-us-ism-services-index-48-8-in-june-vs-53-8-in-may-vs-52-9-expected-for-june/)[](https://www.tradingview.com/news/macenews:c5a3c3f03094b:0-us-ism-services-new-orders-index-47-3-in-june-vs-54-1-in-may/)[COMMENT-Route to sterling's 2024 high may be clearing](https://www.tradingview.com/news/reuters.com,2024:newsml_L1N3IV0IH:0-comment-route-to-sterling-s-2024-high-may-be-clearing/)[](https://www.tradingview.com/news/macenews:c90c3cd34094b:0-us-s-p-pmi-services-report-companies-responded-to-faster-new-orders-in-june-by-increasing-staff-for-1st-time-in-3-months/)[](https://www.tradingview.com/news/macenews:8b65e3182094b:0-us-s-p-pmi-composite-final-index-54-8-in-june-vs-54-6-flash-54-5-may-final/)[](https://www.tradingview.com/news/macenews:f17dfb259094b:0-us-s-p-pmi-services-final-index-55-3-in-june-vs-55-1-flash-54-8-may-final/)[Sign in to read exclusive news](https://www.tradingview.com/news/DJN_DN20240703003674:0/)[Sign in to read exclusive news](https://www.tradingview.com/news/DJN_DN20240703003676:0/)[Kickstart the FX trading day for July 3 w/a technical look at EURUSD, USDJPY & GBPUSD](https://www.tradingview.com/news/forexlive:b4fd0daec094b:0-kickstart-the-fx-trading-day-for-july-3-w-a-technical-look-at-eurusd-usdjpy-gbpusd/)[](https://www.tradingview.com/news/macenews:367d36f99094b:0-more-us-wkly-initial-claims-for-jobless-benefits-unadjusted-wkly-claims-238-129-13-049-unadjusted-insured-unemp-rate-two-wks-ago-1-2-unchanged/)[](https://www.tradingview.com/news/macenews:8440736b1094b:0-more-u-s-may-trade-services-surplus-up-0-3-billion-to-25-1-billion/)[](https://www.tradingview.com/news/macenews:d36b3d5e0094b:0-more-us-wkly-initial-claims-for-jobless-benefits-continuing-claims-two-wks-ago-1-858-mln-26-000/)[](https://www.tradingview.com/news/macenews:3275eb289094b:0-more-u-s-may-trade-goods-deficit-0-9-billion-to-100-2-billion/)[](https://www.tradingview.com/news/macenews:171f97cf1094b:0-more-u-s-may-trade-china-imports-up-1-3-billion-to-35-6-billion/)[](https://www.tradingview.com/news/macenews:8d477ac78094b:0-more-u-s-may-trade-china-exports-down-0-5-billion-to-11-7-billion/)[](https://www.tradingview.com/news/macenews:202281028094b:0-more-us-wkly-initial-claims-for-jobless-benefits-4-wk-moving-avg-238-500-2-250-insured-unemp-rate-1-2-unchanged/)[](https://www.tradingview.com/news/macenews:edb641d15094b:0-more-u-s-may-trade-china-deficit-up-1-9-billion-to-23-9-billion/)[Yen slides to fresh lows, market 'challenges' Japan authorities to act](https://www.tradingview.com/news/reuters.com,2024:newsml_L1N3IV0DU:0-yen-slides-to-fresh-lows-market-challenges-japan-authorities-to-act/)[](https://www.tradingview.com/news/macenews:35abe888e094b:0-more-u-s-may-trade-imports-0-3-to-336-7-billion/)[](https://www.tradingview.com/news/macenews:249a41115094b:0-more-u-s-may-trade-exports-0-7-to-261-7-billion/)[](https://www.tradingview.com/news/macenews:f2a60091a094b:0-us-wkly-initial-claims-for-jobless-benefits-238-000-4-000/)[](https://www.tradingview.com/news/macenews:e57171059094b:0-more-u-s-may-trade-april-deficit-revised-to-74-5-billion-vs-74-6-billion-initial-estimate/)[](https://www.tradingview.com/news/macenews:78ef7edac094b:0-u-s-may-trade-deficit-75-1-billion-vs-76-0-billion-expected/)[](https://www.tradingview.com/news/macenews:d7db7eabb094b:0-us-adp-employment-report-goods-producing-jobs-14k-in-june-from-may-services-jobs-136k-in-june-from-may/)[](https://www.tradingview.com/news/macenews:9142ddf65094b:0-us-adp-private-payrolls-150k-in-june-from-may-vs-161k-expected/)[](https://www.tradingview.com/news/macenews:9745fbe94094b:0-us-adp-report-pay-for-job-stayers-4-9-in-june-from-year-ago-pay-for-job-changers-7-7/)[](https://www.tradingview.com/news/macenews:c30af1858094b:0-us-challenger-hiring-plans-350-6-at-19-087-in-june-vs-4-236-in-may-40-0-from-june-2023/)[](https://www.tradingview.com/news/macenews:5b09f8796094b:0-us-challenger-hiring-plans-year-to-date-69-920-in-2024-vs-115-462-in-2023-year-to-date/)[](https://www.tradingview.com/news/macenews:8ef06ab57094b:0-us-challenger-job-cuts-23-6-at-48-786-in-june-vs-63-816-in-may-19-8-from-june-2023/)[](https://www.tradingview.com/news/macenews:a85e4796d094b:0-us-challenger-job-cuts-year-to-date-434-645-in-2024-vs-458-209-in-2023-year-to-date/)[](https://www.tradingview.com/news/macenews:7d59d3bdc094b:0-us-challenger-largest-number-of-hiring-plans-for-june-in-technology-9-069-transportation-2-321/)[](https://www.tradingview.com/news/macenews:6b02fdf9f094b:0-us-challenger-largest-number-of-layoffs-for-june-in-consumer-5-311-warehousing-4-979-technology-4-647/)[](https://www.tradingview.com/news/macenews:d83a05100094b:0-us-bea-heavy-truck-sales-496-000-in-june-vs-495-000-in-may-549-000-in-june-2023/)[](https://www.tradingview.com/news/macenews:9adde4a43094b:0-us-bea-light-truck-sales-12-5-mln-in-june-vs-12-9-mln-in-may-12-9-mln-in-june-2023/)[](https://www.tradingview.com/news/macenews:61a9d54b1094b:0-us-bea-domestic-motor-vehicles-sales-11-9-mln-in-june-vs-12-5-mln-in-may-12-7-mln-in-june-2023/)[](https://www.tradingview.com/news/macenews:329c8ac58094b:0-us-bea-passenger-car-sales-2-8-mln-in-june-vs-3-1-mln-in-may-3-1-mln-in-june-2023/)[](https://www.tradingview.com/news/macenews:7b88cde61094b:0-us-bea-total-motor-vehicles-sales-15-3-mln-in-june-vs-15-9-mln-in-may-16-1-mln-in-june-2023/)[](https://www.tradingview.com/news/macenews:76cf6c275094b:0-more-nyfed-s-williams-q-a-ecb-hard-to-resolve-tension-in-europe-view-r-neutral-rate-very-low-and-usa-view-that-closer-to-levels-seen-20-yrs-ago/)[COMMENT-The FX outlook according to options](https://www.tradingview.com/news/reuters.com,2024:newsml_L1N3IV0BP:0-comment-the-fx-outlook-according-to-options/)[](https://www.tradingview.com/news/macenews:ff713f713094b:0-recapping-nyfed-s-williams-ecb-event-extreme-uncertainty-re-r-neutral-rate-means-should-not-overly-rely-on-estimates-instead-fed-judgment/)[](https://www.tradingview.com/news/macenews:5f2342660094b:0-us-mba-30-year-fixed-contract-rate-7-03-in-june-28-week-10-bps-vs-1-week-ago-4-bps-vs-4-weeks-ago-18-bps-vs-1-year-ago/)[](https://www.tradingview.com/news/macenews:98ae93103094b:0-us-mba-5-year-arm-contract-rate-6-38-in-june-28-week-9-bps-vs-1-week-ago-1-bps-vs-4-weeks-ago-38-bps-vs-1-year-ago/)[](https://www.tradingview.com/news/macenews:851f14772094b:0-us-mba-adjustable-rate-mortgage-index-3-7-in-june-28-week-2-5-vs-4-weeks-ago-2-3-vs-1-year-ago/)[](https://www.tradingview.com/news/macenews:1d07fada0094b:0-us-mba-chief-economist-fratantoni-purchase-applications-down-due-to-mortgage-rates-above-7-applications-down-despite-increased-inventories-of-homes/)[](https://www.tradingview.com/news/macenews:b6433b79d094b:0-us-mba-fixed-rate-mortgage-index-2-5-in-june-28-week-15-3-vs-4-weeks-ago-0-1-vs-1-year-ago/)[](https://www.tradingview.com/news/macenews:3073f73f0094b:0-us-mba-mortgage-purchase-index-3-3-in-june-28-week-8-0-vs-4-weeks-ago-12-0-vs-1-year-ago/)[](https://www.tradingview.com/news/macenews:4700de03c094b:0-us-mba-mortgage-refinance-index-1-5-in-june-28-week-25-9-vs-4-weeks-ago-29-1-vs-1-year-ago/)[](https://www.tradingview.com/news/macenews:3588c5ae3094b:0-us-mba-refinancings-at-35-7-of-total-mortgage-applications-in-june-28-week-vs-35-1-in-prior-week/)[](https://www.tradingview.com/news/macenews:42fad0546094b:0-us-mortgage-bankers-assn-mortgage-applications-index-2-6-in-june-28-week-14-5-vs-4-weeks-ago-unchanged-vs-1-year-ago/)[World stocks rise on rate cut bets, yen flounders at 38-year lows](https://www.tradingview.com/news/reuters.com,2024:newsml_L1N3IV09Y:0-world-stocks-rise-on-rate-cut-bets-yen-flounders-at-38-year-lows/)[](https://www.tradingview.com/news/macenews:203d10ce3094b:0-heads-up-nyfed-s-williams-q-a-coming-up-at-ecb-event-at-7a-et/)[](https://www.tradingview.com/news/reuters.com,2024:newsml_L8N3IV0MX:0-haven-britain/)[COMMENT-Riksbank set for multiple rate cuts](https://www.tradingview.com/news/reuters.com,2024:newsml_L1N3IV0B0:0-comment-riksbank-set-for-multiple-rate-cuts/)[Euro expected to hold ground despite political tremors](https://www.tradingview.com/news/reuters.com,2024:newsml_L4N3IU0PM:0-euro-expected-to-hold-ground-despite-political-tremors/)[View of the Week: The politics of it all](https://www.tradingview.com/news/reuters.com,2024:newsml_L1N3IU0UZ:0-view-of-the-week-the-politics-of-it-all/)[A closer look at U.S. drug pricing risks](https://www.tradingview.com/news/reuters.com,2024:newsml_L8N3IV0JD:0-a-closer-look-at-u-s-drug-pricing-risks/)[COMMENT-Uncertainty looms over Swedish crown's future path](https://www.tradingview.com/news/reuters.com,2024:newsml_L4N3IV0J7:0-comment-uncertainty-looms-over-swedish-crown-s-future-path/)[Euro (EUR/USD) Nudges Higher Ahead of US NFPs and the French Election Outcome](https://www.dailyfx.com/news/euro-eur-usd-nudges-higher-ahead-of-us-nfps-and-the-french-election-outcome-20240703.html)[Sign in to read exclusive news](https://www.tradingview.com/news/DJN_DN20240703001328:0/)[COMMENT-Unlikely French election shifts EUR/USD from its range](https://www.tradingview.com/news/reuters.com,2024:newsml_L1N3IV07L:0-comment-unlikely-french-election-shifts-eur-usd-from-its-range/)[The grass is greener today in Europe](https://www.tradingview.com/news/reuters.com,2024:newsml_L8N3IV0BP:0-the-grass-is-greener-today-in-europe/)[COMMENT-Weak state of emerging currencies may spur risk aversion](https://www.tradingview.com/news/reuters.com,2024:newsml_L1N3IV06C:0-comment-weak-state-of-emerging-currencies-may-spur-risk-aversion/)[Yen slides to fresh lows as Japan authorities stick to sidelines](https://www.tradingview.com/news/reuters.com,2024:newsml_L1N3IV04O:0-yen-slides-to-fresh-lows-as-japan-authorities-stick-to-sidelines/)[](https://www.tradingview.com/news/reuters.com,2024:newsml_L8N3IV074:0-sunny-start-in-europe/)[Powell sparks optimism on rate cuts](https://www.tradingview.com/news/reuters.com,2024:newsml_L8N3IV05S:0-powell-sparks-optimism-on-rate-cuts/)[Asia stocks rise on rate cut wagers, yen wallows at 38-year lows](https://www.tradingview.com/news/reuters.com,2024:newsml_L1N3IV02M:0-asia-stocks-rise-on-rate-cut-wagers-yen-wallows-at-38-year-lows/)[FX option expiries for 3 July 10am New York cut](https://www.tradingview.com/news/forexlive:26fad7865094b:0-fx-option-expiries-for-3-july-10am-new-york-cut/)[PMI data to highlight the agenda in Europe today](https://www.tradingview.com/news/forexlive:f6af183f1094b:0-pmi-data-to-highlight-the-agenda-in-europe-today/)[ForexLive Asia-Pacific FX news wrap: USD/JPY ticked back above 161.50](https://www.tradingview.com/news/forexlive:4fba6fe48094b:0-forexlive-asia-pacific-fx-news-wrap-usd-jpy-ticked-back-above-161-50/)[Asia stocks gain on rate cut wagers, yen stays near 38-year lows](https://www.tradingview.com/news/reuters.com,2024:newsml_L4N3IV04F:0-asia-stocks-gain-on-rate-cut-wagers-yen-stays-near-38-year-lows/)[Dollar on the defensive amid lower yields, yen hovers near 38-year trough](https://www.tradingview.com/news/reuters.com,2024:newsml_L1N3IV018:0-dollar-on-the-defensive-amid-lower-yields-yen-hovers-near-38-year-trough/)[Forexlive Americas FX news wrap 2 Jul: Powell acknowledges disinflation, but no cut soon](https://www.tradingview.com/news/forexlive:55b23538d094b:0-forexlive-americas-fx-news-wrap-2-jul-powell-acknowledges-disinflation-but-no-cut-soon/)[Shares edge higher, US Treasury yields weaken as markets weigh Fed chair comments](https://www.tradingview.com/news/reuters.com,2024:newsml_L1N3IU0YO:0-shares-edge-higher-us-treasury-yields-weaken-as-markets-weigh-fed-chair-comments/)[US dollar inches lower as dovish Powell comments offset upbeat jobs data](https://www.tradingview.com/news/reuters.com,2024:newsml_L1N3IU0PK:0-us-dollar-inches-lower-as-dovish-powell-comments-offset-upbeat-jobs-data/)[COMMENT-US recap: EUR/USD flat as Powell, JOLTS leave dollar rangebound](https://www.tradingview.com/news/reuters.com,2024:newsml_L1N3IU0XS:0-comment-us-recap-eur-usd-flat-as-powell-jolts-leave-dollar-rangebound/)[Shares flat, US Treasury yields weaken as markets weigh Fed chair comments](https://www.tradingview.com/news/reuters.com,2024:newsml_L1N3IU0JH:0-shares-flat-us-treasury-yields-weaken-as-markets-weigh-fed-chair-comments/)[US dollar dips as Fed's Powell's dovish comments offset upbeat jobs data](https://www.tradingview.com/news/reuters.com,2024:newsml_L1N3IU0G2:0-us-dollar-dips-as-fed-s-powell-s-dovish-comments-offset-upbeat-jobs-data/)[](https://www.tradingview.com/news/macenews:74f419720094b:0-more-chi-fed-s-goolsbee-q-a-ecb-event-only-matter-of-time-cenbanks-mostly-cuts-rates-that-s-the-way-the-parade-is-moving-ends-q-a/)[](https://www.tradingview.com/news/macenews:047d57146094b:0-chi-fed-s-goolsbee-q-a-ecb-event-don-t-want-to-stay-this-restrictive-longer-than-need-to-goods-infl-down-to-pre-covid-level-housing-still-outlier/)[](https://www.tradingview.com/news/macenews:c25a6527f094b:0-chi-fed-s-goolsbee-q-a-ecb-event-very-much-in-agreement-with-fed-s-powell-should-move-policy-by-choice-not-by-default/)[US Dollar Sentiment Latest – EUR/USD, USD/JPY, and GBP/USD](https://www.dailyfx.com/analysis/us-dollar-sentiment-latest-eur-usd-usd-jpy-and-gbp-usd-20240702.html)[](https://www.tradingview.com/news/macenews:da37d25cd094b:0-heads-up-chi-fed-s-goolsbee-q-a-at-ecb-event-coming-up-at-11a-et/)[](https://www.tradingview.com/news/macenews:e51cf9429094b:0-fed-s-powell-q-a-ecb-panel-4-unemp-rate-still-historically-very-low-happy-with-policy-progress-currently-no-comment-on-dot-plot-entry-ends-q-a/)[](https://www.tradingview.com/news/macenews:af63a9aeb094b:0-fed-s-powell-q-a-ecb-panel-fed-not-using-generative-ai-will-see-if-ai-increases-productivity-displaces-or-augments-job-creation/)[](https://www.tradingview.com/news/macenews:b9edc22c2094b:0-more-ecb-s-lagarde-it-s-very-unlikely-that-we-ll-return-to-near-zero-interest-rates-but-i-would-not-want-to-pass-judgment/)[](https://www.tradingview.com/news/macenews:a969d39ff094b:0-fed-s-powell-q-a-ecb-panel-most-people-think-won-t-go-back-to-low-low-rates-but-r-debate-doesn-t-affect-short-term-policy-decisions-today/)[](https://www.tradingview.com/news/macenews:555849722094b:0-fed-s-powell-q-a-ecb-panel-repeats-completely-non-controversial-to-say-usa-debt-growth-unsustainable-otherwise-don-t-comment-on-fiscal-policy/)[](https://www.tradingview.com/news/macenews:1dbacd314094b:0-fed-s-powell-q-a-ecb-panel-believe-support-for-fed-s-independence-very-high-on-capitol-hill/)[](https://www.tradingview.com/news/macenews:4883d959d094b:0-us-job-quits-rate-2-2-in-may-vs-2-2-in-april-2-6-in-may-2023/)[](https://www.tradingview.com/news/macenews:9a6854e66094b:0-us-job-quits-at-3-459-mln-in-may-vs-3-452-mln-in-april-prev-3-507-mln-4-009-mln-in-may-2023/)[](https://www.tradingview.com/news/macenews:09f3bbec4094b:0-us-job-separations-at-5-422-mln-in-may-vs-5-337-mln-in-april-prev-5-mln-5-846-mln-in-may-2023/)[](https://www.tradingview.com/news/macenews:d8bb64229094b:0-us-job-separations-rate-3-4-in-may-vs-3-4-in-april-3-8-in-may-2023/)\n",
      "\n"
     ]
    }
   ],
   "source": [
    "print(scrapped_content)"
   ]
  },
  {
   "cell_type": "code",
   "execution_count": 151,
   "metadata": {},
   "outputs": [],
   "source": [
    "from config import Config\n",
    "model = Config(model_name=\"gpt-4o\").get_model()"
   ]
  },
  {
   "cell_type": "code",
   "execution_count": 152,
   "metadata": {},
   "outputs": [],
   "source": [
    "from langchain_core.prompts import ChatPromptTemplate\n",
    "from langchain_core.output_parsers import StrOutputParser, PydanticOutputParser\n",
    "from langchain_core.pydantic_v1 import BaseModel, Field\n",
    "\n",
    "class ArticlesExtraction(BaseModel):\n",
    "    \"\"\"Articles extraction output format\"\"\"\n",
    "\n",
    "    article: str = Field(description=\"The name of the article\")\n",
    "    url: str = Field(description=\"The url of the article\")\n",
    "\n",
    "parser = PydanticOutputParser(pydantic_object=ArticlesExtraction)\n",
    "\n",
    "prompt = ChatPromptTemplate.from_messages([\n",
    "    (\"system\", \"You are provided with the content scrapped from a website. Your task is to extract the first 5 appearing articles and their urls to the user. Wrap the output in `json` tags\\n{format_instructions}\"),\n",
    "    (\"user\", \"Below is the content. \\n{content}\")\n",
    "]).partial(format_instructions=parser.get_format_instructions())\n",
    "\n",
    "chain = prompt | model | StrOutputParser()\n",
    "\n",
    "response = chain.invoke({\"content\": scrapped_content}).strip(\"```json\").strip(\"```\").strip()"
   ]
  },
  {
   "cell_type": "code",
   "execution_count": 153,
   "metadata": {},
   "outputs": [],
   "source": [
    "websites = json.loads(response)"
   ]
  },
  {
   "cell_type": "code",
   "execution_count": 155,
   "metadata": {},
   "outputs": [
    {
     "data": {
      "text/plain": [
       "[{'article': 'Euro falls after French exit poll points to hung parliament',\n",
       "  'url': 'https://www.tradingview.com/news/reuters.com,2024:newsml_L8N3IZ08V:0-euro-falls-after-french-exit-poll-points-to-hung-parliament/'},\n",
       " {'article': 'Euro Q3 Technical Forecast: A Mixed Picture for the Single Currency',\n",
       "  'url': 'https://www.dailyfx.com/analysis/euro-q3-technical-forecast-a-mixed-picture-for-the-single-currency-20240707.html'},\n",
       " {'article': 'Forexlive Americas FX news wrap 5 Jul: NFP for June sent the USD lower/yields tumbling',\n",
       "  'url': 'https://www.tradingview.com/news/forexlive:57acae61a094b:0-forexlive-americas-fx-news-wrap-5-jul-nfp-for-june-sent-the-usd-lower-yields-tumbling/'},\n",
       " {'article': 'US Dollar Q3 Technical Outlook – Bearish Forces to Prevail in the End',\n",
       "  'url': 'https://www.dailyfx.com/analysis/us-dollar-q3-technical-outlook-bearish-forces-to-prevail-in-the-end-20240705.html'},\n",
       " {'article': 'World stocks rise, US yields dip amid jobs data, UK labor landslide',\n",
       "  'url': 'https://www.tradingview.com/news/reuters.com,2024:newsml_L1N3IX0RS:0-world-stocks-rise-us-yields-dip-amid-jobs-data-uk-labor-landslide/'}]"
      ]
     },
     "execution_count": 155,
     "metadata": {},
     "output_type": "execute_result"
    }
   ],
   "source": [
    "websites"
   ]
  },
  {
   "cell_type": "code",
   "execution_count": 86,
   "metadata": {},
   "outputs": [],
   "source": [
    "contents = []\n",
    "for website in websites:\n",
    "    response = requests.get(url_prefix+website[\"url\"])\n",
    "    if response.status_code == 200:\n",
    "        content = response.text\n",
    "        contents.append(content)\n"
   ]
  },
  {
   "cell_type": "code",
   "execution_count": 88,
   "metadata": {},
   "outputs": [
    {
     "name": "stdout",
     "output_type": "stream",
     "text": [
      "Title: Forexlive Americas FX news wrap 5 Jul: NFP for June sent the USD lower/yields tumbling\n",
      "\n",
      "URL Source: https://www.tradingview.com/news/forexlive:57acae61a094b:0-forexlive-americas-fx-news-wrap-5-jul-nfp-for-june-sent-the-usd-lower-yields-tumbling/\n",
      "\n",
      "Published Time: 2024-07-05T21:37:51+00:00\n",
      "\n",
      "Markdown Content:\n",
      "Forexlive Americas FX news wrap 5 Jul: NFP for June sent the USD lower/yields tumbling — TradingView News\n",
      "===============\n",
      "                                                                                                                           \n",
      "\n",
      " \n",
      "\n",
      "[](https://www.tradingview.com/)\n",
      "\n",
      "Search\n",
      "\n",
      "*   [Products](https://www.tradingview.com/chart/)\n",
      "*   [Community](https://www.tradingview.com/community/)\n",
      "*   [Markets](https://www.tradingview.com/markets/)\n",
      "*   [News](https://www.tradingview.com/news/)\n",
      "*   [Brokers](https://www.tradingview.com/brokers/)\n",
      "*   [More](https://www.tradingview.com/support/)\n",
      "\n",
      "EN ![Image 1](https://www.tradingview.com/news/forexlive:57acae61a094b:0-forexlive-americas-fx-news-wrap-5-jul-nfp-for-june-sent-the-usd-lower-yields-tumbling/)\n",
      "\n",
      "[Get started](https://www.tradingview.com/pricing/?source=header_go_pro_button&feature=start_free_trial)\n",
      "\n",
      "*   [News](https://www.tradingview.com/news/)\n",
      "*   /[Forexlive](https://www.tradingview.com/news/providers/forexlive)\n",
      "*   /[Forexlive Americas FX news wrap 5 Jul: NFP for June sent the USD…](https://www.tradingview.com/news/forexlive:57acae61a094b:0-forexlive-americas-fx-news-wrap-5-jul-nfp-for-june-sent-the-usd-lower-yields-tumbling/# \"Forexlive Americas FX news wrap 5 Jul: NFP for June sent the USD lower/yields tumbling\")\n",
      "\n",
      "[![Image 2: Forexlive](https://s3.tradingview.com/news/logo/forexlive--theme-light.svg)![Image 3: Forexlive](https://s3.tradingview.com/news/logo/forexlive--theme-dark.svg)](https://www.forexlive.com/)\n",
      "\n",
      "Forexlive Americas FX news wrap 5 Jul: NFP for June sent the USD lower/yields tumbling\n",
      "======================================================================================\n",
      "\n",
      "Jul 5, 202421:37 UTC\n",
      "\n",
      "[![Image 4](https://s3-symbol-logo.tradingview.com/country/JP.svg)![Image 5](https://s3-symbol-logo.tradingview.com/country/US.svg)USDJPY](https://www.tradingview.com/symbols/FX_IDC-USDJPY/)[![Image 6](https://s3-symbol-logo.tradingview.com/country/US.svg)![Image 7](https://s3-symbol-logo.tradingview.com/country/EU.svg)EURUSD](https://www.tradingview.com/symbols/FX-EURUSD/)[![Image 8](https://s3-symbol-logo.tradingview.com/country/US.svg)![Image 9](https://s3-symbol-logo.tradingview.com/country/GB.svg)GBPUSD](https://www.tradingview.com/symbols/FX-GBPUSD/)\n",
      "\n",
      "Key points:\n",
      "\n",
      "*   NASDAQ closed at new record levels each day of this trading week\n",
      "*   US Sen Warren seeks to assemble a group of Democratic senators to ask Biden to exit race\n",
      "*   Key events and releases for traders in the upcoming trading week\n",
      "*   Crude oil futures settle at $83.16\n",
      "*   Geopolitics: Head of Israel's Mossad returned from Doha after initial cease-fire meetings\n",
      "*   Baker Hughes oil rig count 479 unchanged on the current week 101\n",
      "*   New York Fed Nowcast growth estimate for Q2 falls to 1.8% down from 1.93% last week\n",
      "*   European equity close: French stocks cautious ahead of Sunday's vote\n",
      "*   SNB's Jordan \"relatively comfortable\" with inflation\n",
      "*   Fed mon pol report: Labor supply-demand balance resembles pre-pandemic period\n",
      "*   Rachel Reeves becomes Britain’s first female Chancellor\n",
      "*   Timiraos: The Fed may start the debate about a Sept cut at the upcoming meeting\n",
      "*   Putin: We see Orban's visit as an attempt to restore the dialogue\n",
      "*   Canada June PMI 62.5 vs 52.0 expected\n",
      "*   The gold market may have found a second leg\n",
      "*   Kickstart the FX trading day for July 5 w/a technical look at the EURUSD, USDJPY & GBPUSD\n",
      "*   US dollar chops after non-farm payrolls\n",
      "*   Canada June employment change by -1.4K versus 22.5K estimate\n",
      "*   US May non-farm payrolls +206K vs +190K expected\n",
      "*   The JPY is the strongest and the USD is the weakest as the NA session begins\n",
      "*   What are the Fed odds saying ahead of the jobs report later?\n",
      "*   ForexLive European FX news wrap: On to the NFP next\n",
      "\n",
      "The US jobs report showed Non-Farm Payroll up a greater than expected 206K vs 190K estimate. However, the details of the report were less than stellar.\n",
      "\n",
      "*   Revisions to prior 2 months was -111K. That more than offset the above expected growth this month.\n",
      "*   The unemployment rate moved to 4.1%. The highest rate since November 2021\n",
      "*   Average hourly earnings YoY came in at 3.9% which is the lowest level June 2021\n",
      "*   The gain in Non-farm payroll was helped by a large 70 K rise in government jobs private education and health also added 82K. The two sectors accounted for 74% of the total gain for the month\n",
      "*   Temporary help fell -48K which is indicative of a slowing job market\n",
      "*   Professional and business services fell -17 K\n",
      "*   Leisure and hospitality - a strong job grower in the post pandemic recovery and indicative of discretionary spending - rose only 7K .\n",
      "\n",
      "Below is a summary of the jobs data:\n",
      "\n",
      "![Image 10](https://s3.tradingview.com/news/image/forexlive:57acae61a094b-d6501c20ff282dbc398f28003086622c-resized.jpeg)\n",
      "\n",
      "Forexlive\n",
      "\n",
      "The initial reaction in the forex market was the dollar moving higher, but those gains were quickly reversed as yields also reversed to the downside.\n",
      "\n",
      "The USD is ending the day as the 2nd weakest of the major currencies behind the CAD. The largest declines were versus the GBP (-0.45%), the CHF (-0.49%) and the NZD (-0.48%).\n",
      "\n",
      "![Image 11](https://s3.tradingview.com/news/image/forexlive:57acae61a094b-d7aa44008d5ce77e2608d6b30aa0ed7f-resized.jpeg)\n",
      "\n",
      "Forexlive\n",
      "\n",
      "In the US debt market, yields moved lower with the shorter end moving the most as traders increased the expectations for rate cuts in September and through the end of the year.\n",
      "\n",
      "Looking at the yield curve, a snapshot shows:\n",
      "\n",
      "*   2-year yield 4.605%, -8.7 basis points\n",
      "*   5-year yield 4.226%, -8.3 basis points\n",
      "*   10-year yield 4.278%, -6.9 basis points\n",
      "*   30-year yield 4.475%, -4.4 basis points\n",
      "\n",
      "For the trading week yields were solidly lower as well with :\n",
      "\n",
      "*   2-year yield down -14.8 basis points\n",
      "*   5-year yield down -14.9 basis points\n",
      "*   10-year yield down -11.8 basis points\n",
      "*   The 30-year yield down -8.0 basis points\n",
      "\n",
      "The declining yields also helped to push stocks higher and complete a week that saw the NASDAQ index close at record levels for each day the holiday shortened week.\n",
      "\n",
      "*   Dow Industrial Average average rose 0.17%.\n",
      "*   S&P index rose 0.55%.\n",
      "*   NASDAQ index rose 3.5%, its best week since April 22\n",
      "\n",
      "Despite the sharp rise in broader stock indices, bitcoin had a horrible week on by nearly $6000 to -$56,718 currently.\n",
      "\n",
      "Crude oil prices did rise by $1.62 or 1.99% despite being lower today by $0.72 for -0.86%.\n",
      "\n",
      "[Forexlive](https://www.tradingview.com/news/providers/forexlive)[Markets today](https://www.tradingview.com/news/market-analysis/?section=markets_today)\n",
      "\n",
      "[Read more from Forexlive](https://www.forexlive.com/)\n",
      "\n",
      " \n",
      "\n",
      "Love in every #TradingView\n",
      "\n",
      "60M+\n",
      "\n",
      "Traders and investors use our platform.\n",
      "\n",
      "#1\n",
      "\n",
      "[Top website](https://www.tradingview.com/blog/en/we-are-officially-number-one-in-the-world-25885/) in the world when it comes to all things investing.\n",
      "\n",
      "1.5M+\n",
      "\n",
      "Mobile reviews with 4.9 average rating. No other fintech apps are more loved.\n",
      "\n",
      "10M+\n",
      "\n",
      "Custom [scripts](https://www.tradingview.com/scripts/) and [ideas](https://www.tradingview.com/ideas/) shared by our users.\n",
      "\n",
      "[![Image 12: TradingView Chart on Instagram @__paid__with__kevin__](https://s3.tradingview.com/wall-of-love/05855ff652dd05a88261920f143146d1.jpg) @\\_\\_paid\\_\\_with\\_\\_kevin\\_\\_](https://www.tradingview.com/wall-of-love/)[![Image 13: TradingView Chart on Instagram @gratitudefinancialllc](https://s3.tradingview.com/wall-of-love/BuG6ZiVgNYa.jpg) @gratitudefinancialllc](https://www.tradingview.com/wall-of-love/)[![Image 14: TradingView Chart on Instagram @j.kruysbergen](https://s3.tradingview.com/wall-of-love/fc820d0136de80094c74048a1119ff50.jpeg) @j.kruysbergen](https://www.tradingview.com/wall-of-love/)[![Image 15: TradingView Chart on Instagram @orestkayd](https://s3.tradingview.com/wall-of-love/fd89bfbf07b66611afa78c343e04b890.jpg) @orestkayd](https://www.tradingview.com/wall-of-love/)[![Image 16: TradingView Chart on Instagram @oficinabitcoin](https://s3.tradingview.com/wall-of-love/f4c3dddb4295970dc95fca22fcc4fe8b.jpg) @oficinabitcoin](https://www.tradingview.com/wall-of-love/)[![Image 17: TradingView Chart on Instagram @ocasalinveste](https://s3.tradingview.com/wall-of-love/abf93b7e0cab2958a6f110d081c3e320.jpeg) @ocasalinveste](https://www.tradingview.com/wall-of-love/)[![Image 18: TradingView Chart on Instagram @kmharris95](https://s3.tradingview.com/wall-of-love/bb3ee4e810fa37242920f0c684428b55.jpg) @kmharris95](https://www.tradingview.com/wall-of-love/)[![Image 19: TradingView Chart on Instagram @darrel_alton1](https://s3.tradingview.com/wall-of-love/3476f40312b5f5a931e0a9cdbabe3d01.jpg) @darrel\\_alton1](https://www.tradingview.com/wall-of-love/)[![Image 20: TradingView Chart on Instagram @stocktcm](https://s3.tradingview.com/wall-of-love/BZDjeRpH1UF.jpg) @stocktcm](https://www.tradingview.com/wall-of-love/)[![Image 21: TradingView Chart on Instagram @mytradingsetup](https://s3.tradingview.com/wall-of-love/4e5cca708d91bf83d1a5d154bf524ef6.jpg) @mytradingsetup](https://www.tradingview.com/wall-of-love/)[![Image 22: TradingView Chart on Instagram @sinasfx](https://s3.tradingview.com/wall-of-love/08d0dd1987cbfe486eeda1d9d467d0f3.jpeg) @sinasfx](https://www.tradingview.com/wall-of-love/)[![Image 23: TradingView Chart on Instagram @bullshakalaka](https://s3.tradingview.com/wall-of-love/b95d4ec6cc32aec4dc33fc656c88a125.jpeg) @bullshakalaka](https://www.tradingview.com/wall-of-love/)[![Image 24: TradingView Chart on Instagram @Kevin Trinh](https://s3.tradingview.com/wall-of-love/ff4893a8672e600cd645fe2df78a94b3.jpg) @Kevin Trinh](https://www.tradingview.com/wall-of-love/)[![Image 25: TradingView Chart on Instagram @mr_sf09](https://s3.tradingview.com/wall-of-love/8b2645a29760a005187c362af17833be.jpg) @mr\\_sf09](https://www.tradingview.com/wall-of-love/)[![Image 26: TradingView Chart on Instagram @tradinglearning](https://s3.tradingview.com/wall-of-love/0491d946860188cf842c5bdd6955d03f.jpg) @tradinglearning](https://www.tradingview.com/wall-of-love/)[![Image 27: TradingView Chart on Instagram @Crypto Kemal](https://s3.tradingview.com/wall-of-love/8134330db6fafd3b7b4681ea9c6f9521.jpeg) @Crypto Kemal](https://www.tradingview.com/wall-of-love/)[![Image 28: TradingView Chart on Instagram @540wvn](https://s3.tradingview.com/wall-of-love/Bj2pgPWh_Yi.jpg) @540wvn](https://www.tradingview.com/wall-of-love/)[![Image 29: TradingView Chart on Instagram @grandebender](https://s3.tradingview.com/wall-of-love/d9f7087f7994ead821dfdb2baafcb102.jpeg) @grandebender](https://www.tradingview.com/wall-of-love/)\n",
      "\n",
      "![Image 30: Alex Honnold on the rock](https://static.tradingview.com/static/bundles/about-banner-s.424933b2ccab8e79ba6c.jpg)Whatever the trade\n",
      "\n",
      "[Here's why](https://www.tradingview.com/about/)[Here's why](https://www.tradingview.com/about/)\n",
      "\n",
      "[](https://www.tradingview.com/)\n",
      "\n",
      "*   [![Image 31](https://www.tradingview.com/static/bundles/ui-lib/icons/28px-filled/social-icons/x-twitter-color-off.svg)](https://twitter.com/tradingview/)\n",
      "*   [![Image 32](https://www.tradingview.com/static/bundles/ui-lib/icons/28px-filled/social-icons/facebook-color-off.svg)](https://www.facebook.com/tradingview/)\n",
      "*   [![Image 33](https://www.tradingview.com/static/bundles/ui-lib/icons/28px-filled/social-icons/youtube-color-off.svg)](https://www.youtube.com/@TradingView)\n",
      "*   [![Image 34](https://www.tradingview.com/static/bundles/ui-lib/icons/28px-filled/social-icons/instagram-color-off.svg)](https://www.instagram.com/tradingview/)\n",
      "*   [![Image 35](https://www.tradingview.com/static/bundles/ui-lib/icons/28px-filled/social-icons/telegram-color-off.svg)](https://t.me/tradingview/)\n",
      "*   [![Image 36](https://www.tradingview.com/static/bundles/ui-lib/icons/28px-filled/social-icons/tiktok-color-off.svg)](https://www.tiktok.com/@tradingview/)\n",
      "*   [![Image 37](https://www.tradingview.com/static/bundles/ui-lib/icons/28px-filled/social-icons/reddit-color-off.svg)](https://www.reddit.com/r/TradingView/)\n",
      "*   [![Image 38](https://www.tradingview.com/static/bundles/ui-lib/icons/28px-filled/social-icons/discord-color-off.svg)](https://discord.com/invite/tradingview-641192799211094016)\n",
      "*   [![Image 39](https://www.tradingview.com/static/bundles/ui-lib/icons/28px-filled/social-icons/linkedin-color-off.svg)](https://www.linkedin.com/company/tradingview/)\n",
      "\n",
      "English\n",
      "\n",
      "Products\n",
      "\n",
      "*   [Supercharts](https://www.tradingview.com/chart/)\n",
      "*   [Pine Script™](https://www.tradingview.com/pine-script-docs/)\n",
      "*   [Stock Screener](https://www.tradingview.com/screener/)\n",
      "*   [ETF Screener](https://www.tradingview.com/etf-screener/)\n",
      "*   [Forex Screener](https://www.tradingview.com/forex-screener/)\n",
      "*   [Crypto Coins Screener](https://www.tradingview.com/crypto-coins-screener/)\n",
      "*   [Crypto Pairs Screener](https://www.tradingview.com/crypto-screener/)\n",
      "*   [DEX Pairs Screener](https://www.tradingview.com/dex-screener/)\n",
      "*   [Stock Heatmap](https://www.tradingview.com/heatmap/stock/)\n",
      "*   [ETF Heatmap](https://www.tradingview.com/heatmap/etf/)\n",
      "*   [Crypto Heatmap](https://www.tradingview.com/heatmap/crypto/)\n",
      "*   [Economic Calendar](https://www.tradingview.com/economic-calendar/)\n",
      "*   [Earnings Calendar](https://www.tradingview.com/markets/stocks-usa/earnings/)\n",
      "*   [Sparks](https://www.tradingview.com/sparks/)\n",
      "*   [News](https://www.tradingview.com/news/)\n",
      "*   [TradingView Desktop](https://www.tradingview.com/desktop/)\n",
      "*   [Mobile app](https://www.tradingview.com/mobile/)\n",
      "*   [CME Group futures](https://www.tradingview.com/cme/)\n",
      "*   [Eurex futures](https://www.tradingview.com/eurex/)\n",
      "*   [US stocks bundle](https://www.tradingview.com/us-markets-bundle/)\n",
      "\n",
      "Company\n",
      "\n",
      "*   [About](https://www.tradingview.com/about/)\n",
      "*   [Features](https://www.tradingview.com/features/)\n",
      "*   [Pricing](https://www.tradingview.com/pricing/?source=footer&feature=pricing)\n",
      "*   [Social network](https://www.tradingview.com/social-network/)\n",
      "*   [Wall of Love](https://www.tradingview.com/wall-of-love/)\n",
      "*   [Athletes](https://www.tradingview.com/athletes/)\n",
      "*   [Manifesto](https://www.tradingview.com/manifesto/)\n",
      "*   [Careers](https://www.tradingview.com/careers/)\n",
      "*   [Blog](https://www.tradingview.com/blog/en/)\n",
      "*   [Security vulnerability](https://www.tradingview.com/bounty/)\n",
      "*   [Status page](https://status.tradingview.com/)\n",
      "*   [Terms of use](https://www.tradingview.com/policies/)\n",
      "*   [Disclaimer](https://www.tradingview.com/disclaimer/)\n",
      "*   [Privacy policy](https://www.tradingview.com/privacy-policy/)\n",
      "*   [Cookies policy](https://www.tradingview.com/cookies-policy/)\n",
      "*   [Media kit](https://www.tradingview.com/media-kit/)\n",
      "*   [Accessibility statement](https://www.tradingview.com/accessibility/)\n",
      "*   [Tarot cards for traders](https://www.tradingview.com/tarot-reading/)\n",
      "\n",
      "Community\n",
      "\n",
      "*   [Refer a friend](https://www.tradingview.com/share-your-love/?source=footer&feature=refer_friend)\n",
      "*   [Ideas](https://www.tradingview.com/ideas/)\n",
      "*   [Scripts](https://www.tradingview.com/scripts/)\n",
      "*   [House rules](https://www.tradingview.com/house-rules/)\n",
      "*   [Moderators](https://www.tradingview.com/moderators/)\n",
      "*   [Pine Script™ Wizards](https://www.tradingview.com/pine-wizards/)\n",
      "*   [Chat](https://www.tradingview.com/chat/)\n",
      "\n",
      "For business\n",
      "\n",
      "*   [Widgets](https://www.tradingview.com/widget/)\n",
      "*   [Advertising](https://www.tradingview.com/advertising-info/)\n",
      "*   [Charting libraries](https://www.tradingview.com/HTML5-stock-forex-bitcoin-charting-library/)\n",
      "*   [Lightweight Charts™](https://www.tradingview.com/lightweight-charts/)\n",
      "*   [Advanced Charts](https://www.tradingview.com/advanced-charts/)\n",
      "*   [Trading Platform](https://www.tradingview.com/trading-platform/)\n",
      "*   [Brokerage integration](https://www.tradingview.com/brokerage-integration/)\n",
      "*   [Partner program](https://www.tradingview.com/partner-program/)\n",
      "*   [Education program](https://www.tradingview.com/students/)\n",
      "\n",
      "  [![Image 40: Download on the App Store](https://static.tradingview.com/static/images/svg/app-store-badge/light-theme/app-store-badge-en.svg) ![Image 41: Download on the App Store](https://static.tradingview.com/static/images/svg/app-store-badge/dark-theme/app-store-badge-en.svg)](https://itunes.apple.com/us/app/tradingview-trading-community-charts-and-quotes/id1205990992?pt=118302550&ct=footer)[![Image 42: Get it on Google Play](https://static.tradingview.com/static/images/svg/google-play-badge/light-theme/google-play-badge-en.svg) ![Image 43: Get it on Google Play](https://static.tradingview.com/static/images/svg/google-play-badge/dark-theme/google-play-badge-en.svg)](https://play.google.com/store/apps/details?id=com.tradingview.tradingviewapp&referrer=utm_source%3Dtradingview%26utm_medium%3Dgplay_footer)\n",
      "\n",
      "  [![Image 44: Download Desktop app](https://static.tradingview.com/static/images/svg/app-desktop-badge/light-theme/app-desktop-badge-en.svg) ![Image 45: Download Desktop app](https://static.tradingview.com/static/images/svg/app-desktop-badge/dark-theme/app-desktop-badge-en.svg)](https://www.tradingview.com/desktop/)[![Image 46: Trade on TradingView](https://static.tradingview.com/static/images/svg/trade-on-tradingview-badges/light-theme/trade-on-tradingview-badges-en.svg) ![Image 47: Trade on TradingView](https://static.tradingview.com/static/images/svg/trade-on-tradingview-badges/dark-theme/trade-on-tradingview-badges-en.svg)](https://www.tradingview.com/brokers/)\n",
      "\n",
      "Select market data provided by [ICE Data Services](https://www.theice.com/market-data) © 2024 TradingView, Inc. US phone number [833 247 1523](tel:8332471523)\n",
      "\n"
     ]
    }
   ],
   "source": [
    "print(contents[1])"
   ]
  },
  {
   "cell_type": "code",
   "execution_count": 119,
   "metadata": {},
   "outputs": [],
   "source": [
    "model = Config(model_name=\"gpt-3.5-turbo-0125\", temperature=0).get_model()"
   ]
  },
  {
   "cell_type": "code",
   "execution_count": 120,
   "metadata": {},
   "outputs": [],
   "source": [
    "prompt = ChatPromptTemplate.from_messages([\n",
    "    (\"system\", \"You are provided with the content scrapped from a website. Your task is to summarize the key information about EUR USD.\"),\n",
    "    (\"user\", \"{content}\")\n",
    "])\n",
    "\n",
    "chain = prompt | model | StrOutputParser()\n",
    "\n",
    "results = chain.batch([{\"content\": content} for content in contents])"
   ]
  },
  {
   "cell_type": "code",
   "execution_count": 121,
   "metadata": {},
   "outputs": [
    {
     "name": "stdout",
     "output_type": "stream",
     "text": [
      "The Euro Q3 Technical Forecast suggests a mixed picture for the EUR/USD pair. The Euro has exhibited a choppy downtrend in 2024, reacting to rate cut projections in the US and ECB. The pair may see a recovery in Q3 but remains uncertain due to French election concerns and Fed easing policy. The technical analysis indicates key resistance levels at 1.0929 and 1.1033, while support levels are at 1.0600 and 1.0516. The Euro may face challenges in gaining strength compared to other G7 currencies. Additionally, the Bank of England's potential rate cut could impact the EUR/GBP pair, with levels to watch at 0.8472 and 0.8720. The overall outlook suggests a recovery for EUR/GBP but allows for a possible initial move lower in Q3. \n",
      "\n",
      "Key Information about EUR/USD from the provided content:\n",
      "\n",
      "- The EUR/USD pair was mentioned in the context of Forex trading news on July 5, 2024.\n",
      "- The US dollar weakened after the Non-Farm Payroll (NFP) report for June, causing yields to tumble.\n",
      "- The NASDAQ closed at record levels throughout the trading week.\n",
      "- The US jobs report showed Non-Farm Payroll increased by 206K, higher than the expected 190K, but revisions to prior months were negative.\n",
      "- The unemployment rate rose to 4.1%, the highest since November 2021.\n",
      "- Average hourly earnings YoY were at 3.9%, the lowest level since June 2021.\n",
      "- The EUR/USD pair was analyzed in the context of technical trading on July 5.\n",
      "- The USD ended the day as the second weakest major currency, with notable declines against GBP, CHF, and NZD.\n",
      "- Yields in the US debt market moved lower, with expectations for rate cuts in September and beyond.\n",
      "- The decline in yields helped push stocks higher, with the NASDAQ index closing at record levels each day of the holiday-shortened week.\n",
      "- Despite the rise in stock indices, Bitcoin experienced a significant drop during the week.\n",
      "- Crude oil prices rose despite a slight decline on the day.\n",
      "\n",
      "Overall, the EUR/USD pair was influenced by the weakening US dollar and tumbling yields following the NFP report, amidst broader market movements in stocks, cryptocurrencies, and commodities. \n",
      "\n",
      "The article discusses the technical outlook for the US Dollar (USD) in Q3, highlighting bearish forces that are expected to prevail. The USD index (DXY) is vulnerable to a potential rise due to the composition of the index, with the Euro making up a significant portion. The article also mentions that the Euro (EUR/USD) may face challenges due to French elections but could see a recovery in Q3. Additionally, the article touches on USD/JPY, mentioning the potential for the USD to head lower against the Japanese Yen due to intervention risks and a dovish Fed. The technical charts for DXY, EUR/USD, and USD/JPY are provided to support the analysis. \n",
      "\n",
      "Key Information about EUR/USD:\n",
      "\n",
      "- The EUR/USD pair was up 0.25% at $1.0837.\n",
      "- The U.S. dollar weakened against the euro as the dollar index fell 0.28%.\n",
      "- The dollar index measures the greenback against a basket of currencies, including the euro and the yen.\n",
      "- The weakening of the dollar was attributed to market movements following the highly anticipated jobs data and expectations of a Federal Reserve interest-rate cut.\n",
      "- The euro's rise against the dollar was also influenced by the outcome of the UK Labour election and the upcoming French legislative election.\n",
      "- Overall, the EUR/USD pair saw a positive movement amidst global market shifts and economic events. \n",
      "\n",
      "Key Information about EUR/USD:\n",
      "\n",
      "- The EUR/USD pair was up 0.23% at $1.0835, on track for its biggest weekly gain of the year against the dollar.\n",
      "- The euro was bolstered by signs that France could be heading for a hung parliament in elections on Sunday, potentially impacting the currency's strength.\n",
      "- The U.S. dollar index, which measures the greenback against a basket of currencies, was down 0.28% at 104.87, hitting a three-week low.\n",
      "- Investors are closely monitoring the U.S. labor market and inflation data to gauge when the Federal Reserve might begin cutting interest rates from nearly two-decade highs.\n",
      "- Futures markets are now pricing in a roughly 72% chance for a 25 basis point rate cut at the Fed's meeting in September, up from a 57.9% chance seen a week ago. \n",
      "\n"
     ]
    }
   ],
   "source": [
    "for result in results:\n",
    "    print(result, \"\\n\")"
   ]
  },
  {
   "cell_type": "code",
   "execution_count": 174,
   "metadata": {},
   "outputs": [],
   "source": [
    "from dotenv import load_dotenv\n",
    "import os\n",
    "load_dotenv()\n",
    "api_key = os.getenv(\"ALPHA_VANTAGE_API_KEY\")"
   ]
  },
  {
   "cell_type": "code",
   "execution_count": 178,
   "metadata": {},
   "outputs": [
    {
     "name": "stdout",
     "output_type": "stream",
     "text": [
      "{'Realtime Currency Exchange Rate': {'1. From_Currency Code': 'EUR', '2. From_Currency Name': 'Euro', '3. To_Currency Code': 'USD', '4. To_Currency Name': 'United States Dollar', '5. Exchange Rate': '1.08190000', '6. Last Refreshed': '2024-07-07 21:30:34', '7. Time Zone': 'UTC', '8. Bid Price': '1.08186000', '9. Ask Price': '1.08195000'}}\n"
     ]
    }
   ],
   "source": [
    "url = f\"https://www.alphavantage.co/query?function=CURRENCY_EXCHANGE_RATE&from_currency=EUR&to_currency=USD&apikey={api_key}\"\n",
    "r = requests.get(url)\n",
    "data = r.json()\n",
    "\n",
    "print(data)"
   ]
  },
  {
   "cell_type": "code",
   "execution_count": 179,
   "metadata": {},
   "outputs": [],
   "source": [
    "url = f\"https://www.alphavantage.co/query?function=FX_DAILY&from_symbol=EUR&to_symbol=USD&apikey={api_key}\"\n",
    "r = requests.get(url)\n",
    "data = r.json()"
   ]
  },
  {
   "cell_type": "code",
   "execution_count": 180,
   "metadata": {},
   "outputs": [
    {
     "name": "stdout",
     "output_type": "stream",
     "text": [
      "{'Meta Data': {'1. Information': 'Forex Daily Prices (open, high, low, close)', '2. From Symbol': 'EUR', '3. To Symbol': 'USD', '4. Output Size': 'Compact', '5. Last Refreshed': '2024-07-05 21:55:00', '6. Time Zone': 'UTC'}, 'Time Series FX (Daily)': {'2024-07-05': {'1. open': '1.08099', '2. high': '1.08426', '3. low': '1.07968', '4. close': '1.08370'}, '2024-07-03': {'1. open': '1.07933', '2. high': '1.08167', '3. low': '1.07842', '4. close': '1.07933'}, '2024-07-02': {'1. open': '1.07484', '2. high': '1.08156', '3. low': '1.07371', '4. close': '1.07484'}, '2024-07-01': {'1. open': '1.07371', '2. high': '1.07461', '3. low': '1.07106', '4. close': '1.07371'}, '2024-06-30': {'1. open': '1.07353', '2. high': '1.07782', '3. low': '1.07208', '4. close': '1.07353'}, '2024-06-27': {'1. open': '1.07085', '2. high': '1.07210', '3. low': '1.06860', '4. close': '1.07085'}, '2024-06-26': {'1. open': '1.06801', '2. high': '1.07262', '3. low': '1.06778', '4. close': '1.06801'}, '2024-06-25': {'1. open': '1.07096', '2. high': '1.07204', '3. low': '1.06677', '4. close': '1.07096'}, '2024-06-24': {'1. open': '1.07327', '2. high': '1.07458', '3. low': '1.06922', '4. close': '1.07327'}, '2024-06-23': {'1. open': '1.06878', '2. high': '1.07470', '3. low': '1.06844', '4. close': '1.06878'}, '2024-06-20': {'1. open': '1.07064', '2. high': '1.07227', '3. low': '1.06719', '4. close': '1.07064'}, '2024-06-19': {'1. open': '1.07515', '2. high': '1.07504', '3. low': '1.07075', '4. close': '1.07515'}, '2024-06-18': {'1. open': '1.07423', '2. high': '1.07533', '3. low': '1.07263', '4. close': '1.07423'}, '2024-06-17': {'1. open': '1.07407', '2. high': '1.07612', '3. low': '1.07111', '4. close': '1.07407'}, '2024-06-16': {'1. open': '1.07022', '2. high': '1.07262', '3. low': '1.06876', '4. close': '1.07022'}, '2024-06-13': {'1. open': '1.07388', '2. high': '1.07458', '3. low': '1.06682', '4. close': '1.07388'}, '2024-06-12': {'1. open': '1.08132', '2. high': '1.08178', '3. low': '1.07538', '4. close': '1.08132'}, '2024-06-11': {'1. open': '1.07403', '2. high': '1.08518', '3. low': '1.07350', '4. close': '1.07403'}, '2024-06-10': {'1. open': '1.07643', '2. high': '1.07735', '3. low': '1.07211', '4. close': '1.07643'}, '2024-06-09': {'1. open': '1.07789', '2. high': '1.07828', '3. low': '1.07336', '4. close': '1.07789'}, '2024-06-06': {'1. open': '1.08944', '2. high': '1.09018', '3. low': '1.08050', '4. close': '1.08944'}, '2024-06-05': {'1. open': '1.08745', '2. high': '1.08987', '3. low': '1.08637', '4. close': '1.08745'}, '2024-06-04': {'1. open': '1.08819', '2. high': '1.08899', '3. low': '1.08610', '4. close': '1.08819'}, '2024-06-03': {'1. open': '1.09074', '2. high': '1.09182', '3. low': '1.08607', '4. close': '1.09074'}, '2024-06-02': {'1. open': '1.08530', '2. high': '1.08909', '3. low': '1.08280', '4. close': '1.08530'}, '2024-05-30': {'1. open': '1.08354', '2. high': '1.08826', '3. low': '1.08116', '4. close': '1.08354'}, '2024-05-29': {'1. open': '1.08018', '2. high': '1.08460', '3. low': '1.07890', '4. close': '1.08018'}, '2024-05-28': {'1. open': '1.08519', '2. high': '1.08589', '3. low': '1.08095', '4. close': '1.08519'}, '2024-05-27': {'1. open': '1.08619', '2. high': '1.08895', '3. low': '1.08591', '4. close': '1.08619'}, '2024-05-26': {'1. open': '1.08476', '2. high': '1.08672', '3. low': '1.08418', '4. close': '1.08476'}, '2024-05-23': {'1. open': '1.08127', '2. high': '1.08566', '3. low': '1.08061', '4. close': '1.08127'}, '2024-05-22': {'1. open': '1.08252', '2. high': '1.08613', '3. low': '1.08130', '4. close': '1.08252'}, '2024-05-21': {'1. open': '1.08552', '2. high': '1.08648', '3. low': '1.08225', '4. close': '1.08552'}, '2024-05-20': {'1. open': '1.08608', '2. high': '1.08755', '3. low': '1.08460', '4. close': '1.08608'}, '2024-05-19': {'1. open': '1.08755', '2. high': '1.08849', '3. low': '1.08550', '4. close': '1.08755'}, '2024-05-16': {'1. open': '1.08678', '2. high': '1.08789', '3. low': '1.08363', '4. close': '1.08678'}, '2024-05-15': {'1. open': '1.08898', '2. high': '1.08968', '3. low': '1.08552', '4. close': '1.08898'}, '2024-05-14': {'1. open': '1.08146', '2. high': '1.08743', '3. low': '1.08136', '4. close': '1.08146'}, '2024-05-13': {'1. open': '1.07935', '2. high': '1.08284', '3. low': '1.07764', '4. close': '1.07935'}, '2024-05-12': {'1. open': '1.07704', '2. high': '1.08073', '3. low': '1.07665', '4. close': '1.07704'}, '2024-05-09': {'1. open': '1.07852', '2. high': '1.07933', '3. low': '1.07621', '4. close': '1.07852'}, '2024-05-08': {'1. open': '1.07469', '2. high': '1.07828', '3. low': '1.07251', '4. close': '1.07469'}, '2024-05-07': {'1. open': '1.07505', '2. high': '1.07585', '3. low': '1.07357', '4. close': '1.07505'}, '2024-05-06': {'1. open': '1.07675', '2. high': '1.07898', '3. low': '1.07558', '4. close': '1.07675'}, '2024-05-05': {'1. open': '1.07581', '2. high': '1.07921', '3. low': '1.07564', '4. close': '1.07581'}, '2024-05-02': {'1. open': '1.07331', '2. high': '1.08094', '3. low': '1.07250', '4. close': '1.07331'}, '2024-05-01': {'1. open': '1.07216', '2. high': '1.07308', '3. low': '1.06758', '4. close': '1.07216'}, '2024-04-30': {'1. open': '1.06665', '2. high': '1.06887', '3. low': '1.06501', '4. close': '1.06665'}, '2024-04-29': {'1. open': '1.07157', '2. high': '1.07365', '3. low': '1.06843', '4. close': '1.07157'}, '2024-04-28': {'1. open': '1.07069', '2. high': '1.07354', '3. low': '1.06910', '4. close': '1.07069'}, '2024-04-25': {'1. open': '1.07296', '2. high': '1.07529', '3. low': '1.06756', '4. close': '1.07296'}, '2024-04-24': {'1. open': '1.06999', '2. high': '1.07319', '3. low': '1.06787', '4. close': '1.06999'}, '2024-04-23': {'1. open': '1.07044', '2. high': '1.07158', '3. low': '1.06792', '4. close': '1.07044'}, '2024-04-22': {'1. open': '1.06540', '2. high': '1.07100', '3. low': '1.06393', '4. close': '1.06540'}, '2024-04-21': {'1. open': '1.06578', '2. high': '1.06712', '3. low': '1.06251', '4. close': '1.06583'}, '2024-04-18': {'1. open': '1.06442', '2. high': '1.06803', '3. low': '1.06118', '4. close': '1.06442'}, '2024-04-17': {'1. open': '1.06694', '2. high': '1.06918', '3. low': '1.06478', '4. close': '1.06694'}, '2024-04-16': {'1. open': '1.06215', '2. high': '1.06527', '3. low': '1.06082', '4. close': '1.06215'}, '2024-04-15': {'1. open': '1.06258', '2. high': '1.06540', '3. low': '1.06041', '4. close': '1.06258'}, '2024-04-14': {'1. open': '1.06496', '2. high': '1.06655', '3. low': '1.06236', '4. close': '1.06496'}, '2024-04-11': {'1. open': '1.07269', '2. high': '1.07296', '3. low': '1.06237', '4. close': '1.07269'}, '2024-04-10': {'1. open': '1.07417', '2. high': '1.07558', '3. low': '1.07004', '4. close': '1.07417'}, '2024-04-09': {'1. open': '1.08593', '2. high': '1.08684', '3. low': '1.07338', '4. close': '1.08593'}, '2024-04-08': {'1. open': '1.08637', '2. high': '1.08885', '3. low': '1.08499', '4. close': '1.08637'}, '2024-04-07': {'1. open': '1.08305', '2. high': '1.08584', '3. low': '1.08216', '4. close': '1.08305'}, '2024-04-04': {'1. open': '1.08370', '2. high': '1.08485', '3. low': '1.07917', '4. close': '1.08370'}, '2024-04-03': {'1. open': '1.08384', '2. high': '1.08758', '3. low': '1.08351', '4. close': '1.08384'}, '2024-04-02': {'1. open': '1.07685', '2. high': '1.08319', '3. low': '1.07647', '4. close': '1.07685'}, '2024-04-01': {'1. open': '1.07372', '2. high': '1.07788', '3. low': '1.07254', '4. close': '1.07372'}, '2024-03-31': {'1. open': '1.07927', '2. high': '1.08015', '3. low': '1.07316', '4. close': '1.07927'}, '2024-03-28': {'1. open': '1.07945', '2. high': '1.08073', '3. low': '1.07689', '4. close': '1.07945'}, '2024-03-27': {'1. open': '1.08134', '2. high': '1.08284', '3. low': '1.07755', '4. close': '1.08134'}, '2024-03-26': {'1. open': '1.08324', '2. high': '1.08393', '3. low': '1.08117', '4. close': '1.08324'}, '2024-03-25': {'1. open': '1.08382', '2. high': '1.08641', '3. low': '1.08260', '4. close': '1.08382'}, '2024-03-24': {'1. open': '1.08075', '2. high': '1.08436', '3. low': '1.08026', '4. close': '1.08075'}, '2024-03-21': {'1. open': '1.08624', '2. high': '1.08696', '3. low': '1.08091', '4. close': '1.08624'}, '2024-03-20': {'1. open': '1.09372', '2. high': '1.09445', '3. low': '1.08565', '4. close': '1.09372'}, '2024-03-19': {'1. open': '1.08633', '2. high': '1.08743', '3. low': '1.08369', '4. close': '1.08633'}, '2024-03-18': {'1. open': '1.08739', '2. high': '1.08778', '3. low': '1.08351', '4. close': '1.08739'}, '2024-03-17': {'1. open': '1.08826', '2. high': '1.09075', '3. low': '1.08808', '4. close': '1.08826'}, '2024-03-14': {'1. open': '1.08834', '2. high': '1.09016', '3. low': '1.08738', '4. close': '1.08834'}, '2024-03-13': {'1. open': '1.09553', '2. high': '1.09547', '3. low': '1.08841', '4. close': '1.09553'}, '2024-03-12': {'1. open': '1.09278', '2. high': '1.09493', '3. low': '1.09205', '4. close': '1.09278'}, '2024-03-11': {'1. open': '1.09313', '2. high': '1.09421', '3. low': '1.09032', '4. close': '1.09313'}, '2024-03-10': {'1. open': '1.09430', '2. high': '1.09505', '3. low': '1.09146', '4. close': '1.09430'}, '2024-03-07': {'1. open': '1.09501', '2. high': '1.09780', '3. low': '1.09271', '4. close': '1.09501'}, '2024-03-06': {'1. open': '1.08995', '2. high': '1.09409', '3. low': '1.08693', '4. close': '1.08995'}, '2024-03-05': {'1. open': '1.08560', '2. high': '1.09140', '3. low': '1.08429', '4. close': '1.08560'}, '2024-03-04': {'1. open': '1.08552', '2. high': '1.08754', '3. low': '1.08427', '4. close': '1.08552'}, '2024-03-03': {'1. open': '1.08427', '2. high': '1.08665', '3. low': '1.08386', '4. close': '1.08427'}, '2024-02-29': {'1. open': '1.08050', '2. high': '1.08415', '3. low': '1.07993', '4. close': '1.08050'}, '2024-02-28': {'1. open': '1.08388', '2. high': '1.08559', '3. low': '1.08057', '4. close': '1.08388'}, '2024-02-27': {'1. open': '1.08448', '2. high': '1.08472', '3. low': '1.07987', '4. close': '1.08448'}, '2024-02-26': {'1. open': '1.08509', '2. high': '1.08661', '3. low': '1.08336', '4. close': '1.08509'}, '2024-02-25': {'1. open': '1.08196', '2. high': '1.08591', '3. low': '1.08134', '4. close': '1.08201'}, '2024-02-22': {'1. open': '1.08257', '2. high': '1.08394', '3. low': '1.08137', '4. close': '1.08257'}, '2024-02-21': {'1. open': '1.08204', '2. high': '1.08862', '3. low': '1.08051', '4. close': '1.08204'}, '2024-02-20': {'1. open': '1.08132', '2. high': '1.08225', '3. low': '1.07919', '4. close': '1.08132'}, '2024-02-19': {'1. open': '1.07754', '2. high': '1.08386', '3. low': '1.07625', '4. close': '1.07754'}, '2024-02-18': {'1. open': '1.07845', '2. high': '1.07898', '3. low': '1.07630', '4. close': '1.07849'}}}\n"
     ]
    }
   ],
   "source": [
    "print(data)"
   ]
  }
 ],
 "metadata": {
  "kernelspec": {
   "display_name": "fx_assistant",
   "language": "python",
   "name": "python3"
  },
  "language_info": {
   "codemirror_mode": {
    "name": "ipython",
    "version": 3
   },
   "file_extension": ".py",
   "mimetype": "text/x-python",
   "name": "python",
   "nbconvert_exporter": "python",
   "pygments_lexer": "ipython3",
   "version": "3.11.5"
  }
 },
 "nbformat": 4,
 "nbformat_minor": 2
}
